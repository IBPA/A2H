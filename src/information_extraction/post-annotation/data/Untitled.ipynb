{
 "cells": [
  {
   "cell_type": "code",
   "execution_count": 8,
   "metadata": {},
   "outputs": [],
   "source": [
    "import lux\n",
    "import pandas as pd"
   ]
  },
  {
   "cell_type": "code",
   "execution_count": null,
   "metadata": {},
   "outputs": [],
   "source": [
    "!pip install lux"
   ]
  },
  {
   "cell_type": "code",
   "execution_count": 6,
   "metadata": {},
   "outputs": [
    {
     "data": {
      "text/plain": [
       "'C:\\\\Users\\\\cmillsop\\\\Documents\\\\phd\\\\a2h\\\\data'"
      ]
     },
     "execution_count": 6,
     "metadata": {},
     "output_type": "execute_result"
    }
   ],
   "source": [
    "import os\n",
    "os.getcwd()"
   ]
  },
  {
   "cell_type": "code",
   "execution_count": 9,
   "metadata": {},
   "outputs": [],
   "source": [
    "df = pd.read_csv('..\\Animal2Human Data - Sheet9.csv')"
   ]
  },
  {
   "cell_type": "code",
   "execution_count": 10,
   "metadata": {},
   "outputs": [
    {
     "data": {
      "application/vnd.jupyter.widget-view+json": {
       "model_id": "ba49f9a5c3574bb082389047971d2072",
       "version_major": 2,
       "version_minor": 0
      },
      "text/plain": [
       "Button(description='Toggle Pandas/Lux', layout=Layout(top='5px', width='140px'), style=ButtonStyle())"
      ]
     },
     "metadata": {},
     "output_type": "display_data"
    },
    {
     "data": {
      "application/vnd.jupyter.widget-view+json": {
       "model_id": "c2f51e31bf514db8859f68b890ae60b8",
       "version_major": 2,
       "version_minor": 0
      },
      "text/plain": [
       "Output()"
      ]
     },
     "metadata": {},
     "output_type": "display_data"
    },
    {
     "data": {
      "text/plain": []
     },
     "execution_count": 10,
     "metadata": {},
     "output_type": "execute_result"
    }
   ],
   "source": [
    "df"
   ]
  },
  {
   "cell_type": "code",
   "execution_count": 24,
   "metadata": {},
   "outputs": [],
   "source": [
    "vis = df.recommendation['Occurrence'][1]"
   ]
  },
  {
   "cell_type": "code",
   "execution_count": 18,
   "metadata": {},
   "outputs": [
    {
     "data": {
      "application/vnd.jupyter.widget-view+json": {
       "model_id": "d1c4ebfa755a41f0852db8e83ad52e5d",
       "version_major": 2,
       "version_minor": 0
      },
      "text/plain": [
       "LuxWidget(current_vis={'config': {'view': {'continuousWidth': 400, 'continuousHeight': 300}, 'axis': {'labelCo…"
      ]
     },
     "metadata": {},
     "output_type": "display_data"
    },
    {
     "data": {
      "text/plain": [
       "<Vis  (x: COUNT(Record), y: species) mark: bar, score: 0.3145450084608647 >"
      ]
     },
     "execution_count": 18,
     "metadata": {},
     "output_type": "execute_result"
    }
   ],
   "source": [
    "vis[0]"
   ]
  },
  {
   "cell_type": "code",
   "execution_count": 25,
   "metadata": {},
   "outputs": [
    {
     "name": "stdout",
     "output_type": "stream",
     "text": [
      "** Remove this comment -- Copy Text Below to Vega Editor(vega.github.io/editor) to visualize and edit **\n",
      "{\n",
      "  \"config\": {\n",
      "    \"view\": {\n",
      "      \"continuousWidth\": 400,\n",
      "      \"continuousHeight\": 300\n",
      "    },\n",
      "    \"axis\": {\n",
      "      \"labelColor\": \"#505050\",\n",
      "      \"labelFont\": \"Helvetica Neue\",\n",
      "      \"labelFontSize\": 9,\n",
      "      \"labelFontWeight\": 400,\n",
      "      \"titleFont\": \"Helvetica Neue\",\n",
      "      \"titleFontSize\": 11,\n",
      "      \"titleFontWeight\": 500\n",
      "    },\n",
      "    \"legend\": {\n",
      "      \"labelFont\": \"Helvetica Neue\",\n",
      "      \"labelFontSize\": 9,\n",
      "      \"labelFontWeight\": 400,\n",
      "      \"titleFont\": \"Helvetica Neue\",\n",
      "      \"titleFontSize\": 10,\n",
      "      \"titleFontWeight\": 500\n",
      "    },\n",
      "    \"mark\": {\n",
      "      \"tooltip\": {\n",
      "        \"content\": \"encoding\"\n",
      "      }\n",
      "    },\n",
      "    \"title\": {\n",
      "      \"font\": \"Helvetica Neue\",\n",
      "      \"fontSize\": 13,\n",
      "      \"fontWeight\": 500\n",
      "    }\n",
      "  },\n",
      "  \"layer\": [\n",
      "    {\n",
      "      \"data\": {\n",
      "        \"name\": \"data-4cd4fb7205efe3b0b18c943d5c594b28\"\n",
      "      },\n",
      "      \"mark\": \"bar\",\n",
      "      \"encoding\": {\n",
      "        \"x\": {\n",
      "          \"type\": \"quantitative\",\n",
      "          \"axis\": {\n",
      "            \"title\": \"Number of Records\"\n",
      "          },\n",
      "          \"field\": \"Record\",\n",
      "          \"title\": \"Number of Records\"\n",
      "        },\n",
      "        \"y\": {\n",
      "          \"type\": \"nominal\",\n",
      "          \"axis\": {\n",
      "            \"labelOverlap\": true,\n",
      "            \"title\": \"induction method\"\n",
      "          },\n",
      "          \"field\": \"induction method\",\n",
      "          \"sort\": \"-x\"\n",
      "        }\n",
      "      }\n",
      "    },\n",
      "    {\n",
      "      \"data\": {\n",
      "        \"name\": \"data-4cd4fb7205efe3b0b18c943d5c594b28\"\n",
      "      },\n",
      "      \"mark\": {\n",
      "        \"type\": \"text\",\n",
      "        \"align\": \"right\",\n",
      "        \"color\": \"#ff8e04\",\n",
      "        \"fontSize\": 11,\n",
      "        \"text\": \"+ 4 more ...\",\n",
      "        \"x\": 155,\n",
      "        \"y\": 142\n",
      "      }\n",
      "    }\n",
      "  ],\n",
      "  \"height\": 150,\n",
      "  \"width\": 160,\n",
      "  \"$schema\": \"https://vega.github.io/schema/vega-lite/v4.8.1.json\",\n",
      "  \"datasets\": {\n",
      "    \"data-4cd4fb7205efe3b0b18c943d5c594b28\": [\n",
      "      {\n",
      "        \"induction method\": \"adjuvant-induced arthritis\",\n",
      "        \"Record\": 22\n",
      "      },\n",
      "      {\n",
      "        \"induction method\": \"collagen-induced arthritis\",\n",
      "        \"Record\": 9\n",
      "      },\n",
      "      {\n",
      "        \"induction method\": \"carrageenan-induced\",\n",
      "        \"Record\": 6\n",
      "      },\n",
      "      {\n",
      "        \"induction method\": \"lipopolysaccharide\",\n",
      "        \"Record\": 3\n",
      "      },\n",
      "      {\n",
      "        \"induction method\": \"ovariectomy-induced\",\n",
      "        \"Record\": 3\n",
      "      },\n",
      "      {\n",
      "        \"induction method\": \"spontaneous\",\n",
      "        \"Record\": 3\n",
      "      },\n",
      "      {\n",
      "        \"induction method\": \"IFN-gamma + LPS-stimulated\",\n",
      "        \"Record\": 2\n",
      "      },\n",
      "      {\n",
      "        \"induction method\": \"interleukin-1alpha\",\n",
      "        \"Record\": 2\n",
      "      },\n",
      "      {\n",
      "        \"induction method\": \"intraarticular injection of methylated bovine serum albumin\",\n",
      "        \"Record\": 2\n",
      "      },\n",
      "      {\n",
      "        \"induction method\": \"CD40L-stimulated\",\n",
      "        \"Record\": 1\n",
      "      }\n",
      "    ]\n",
      "  }\n",
      "}\n"
     ]
    }
   ],
   "source": [
    "print (vis.to_VegaLite())"
   ]
  },
  {
   "cell_type": "code",
   "execution_count": 11,
   "metadata": {},
   "outputs": [
    {
     "name": "stdout",
     "output_type": "stream",
     "text": [
      "Saved HTML to export.html\n"
     ]
    }
   ],
   "source": [
    "df.save_as_html()"
   ]
  },
  {
   "cell_type": "code",
   "execution_count": 14,
   "metadata": {},
   "outputs": [
    {
     "data": {
      "text/plain": [
       "<bound method IndexOpsMixin.value_counts of 0                             COX-1 and COX-2 inhibitor\n",
       "1                             COX-1 and COX-2 inhibitor\n",
       "2                               CD28 signalling pathway\n",
       "3                     block signal transduction of IL-6\n",
       "4          prevents reduction of dihydrobiopterin (BH2)\n",
       "5                        inhibition of IL-12 production\n",
       "6                        inhibition of IL-12 production\n",
       "7     catalyzing the disproportionation of superoxid...\n",
       "8                Inhibitors of prostaglandin production\n",
       "9                     block signal transduction of IL-6\n",
       "10                               up-regulation of TIMPs\n",
       "11     suppression of the production of proMMPs 1 and 3\n",
       "12                               up-regulation of TIMPs\n",
       "13                               glucocorticoid agonist\n",
       "14                                   PPAR-gamma agonist\n",
       "15                            inhibits protein kinase C\n",
       "16                                      5-LOX inhibitor\n",
       "17                   block signal transduction of IL-17\n",
       "18                               glucocorticoid agonist\n",
       "19                   inhibition of TNF-alpha production\n",
       "20                                 TNF-alpha inhibition\n",
       "21                        inhibition of IL-1 production\n",
       "22                        inhibition of IL-1 production\n",
       "23                        inhibition of IL-1 production\n",
       "24                        inhibition of IL-1 production\n",
       "25                        inhibition of IL-1 production\n",
       "26                          HMG-CoA reductase inhibitor\n",
       "27                          HMG-CoA reductase inhibitor\n",
       "28                              C5a receptor antagonist\n",
       "29                            COX-1 and COX-2 inhibitor\n",
       "30                    block signal transduction of IL-6\n",
       "31                               glucocorticoid agonist\n",
       "32                            COX-1 and COX-2 inhibitor\n",
       "33                        inhibition of IL-1 production\n",
       "34                   inhibition of TNF-alpha production\n",
       "35    inhibit the enzymatic activity of inducible NO...\n",
       "36    inhibit the enzymatic activity of inducible NO...\n",
       "37                                calcineurin inhibitor\n",
       "38            inhibitor of dihydroorotate dehydrogenase\n",
       "39         prevents reduction of dihydrobiopterin (BH2)\n",
       "40         prevents reduction of dihydrobiopterin (BH2)\n",
       "41                                       mTor inhibitor\n",
       "42         prevents reduction of dihydrobiopterin (BH2)\n",
       "43                                   antagonist of CCR5\n",
       "44                                      COX-2 inhibitor\n",
       "45                            COX-1 and COX-2 inhibitor\n",
       "46                                   chrondroprotective\n",
       "47         prevents reduction of dihydrobiopterin (BH2)\n",
       "48                                   PPAR-alpha agonist\n",
       "49                           inhibitor of TLR2 and TLR4\n",
       "50         prevents reduction of dihydrobiopterin (BH2)\n",
       "51         prevents reduction of dihydrobiopterin (BH2)\n",
       "52         prevents reduction of dihydrobiopterin (BH2)\n",
       "53         prevents reduction of dihydrobiopterin (BH2)\n",
       "54         prevents reduction of dihydrobiopterin (BH2)\n",
       "55                                      COX-2 inhibitor\n",
       "56                            COX-1 and COX-2 inhibitor\n",
       "Name: MoA, dtype: object>"
      ]
     },
     "execution_count": 14,
     "metadata": {},
     "output_type": "execute_result"
    }
   ],
   "source": [
    "df['MoA'].value_counts"
   ]
  }
 ],
 "metadata": {
  "kernelspec": {
   "display_name": "Python 3",
   "language": "python",
   "name": "python3"
  },
  "language_info": {
   "codemirror_mode": {
    "name": "ipython",
    "version": 3
   },
   "file_extension": ".py",
   "mimetype": "text/x-python",
   "name": "python",
   "nbconvert_exporter": "python",
   "pygments_lexer": "ipython3",
   "version": "3.8.8"
  }
 },
 "nbformat": 4,
 "nbformat_minor": 4
}
