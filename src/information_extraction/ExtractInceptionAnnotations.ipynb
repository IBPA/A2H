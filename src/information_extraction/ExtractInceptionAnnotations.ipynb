{
 "cells": [
  {
   "cell_type": "code",
   "execution_count": 1,
   "metadata": {},
   "outputs": [],
   "source": [
    "#!/usr/bin/env python\n",
    "# coding: utf-8\n",
    "\n",
    "# In[90]:\n",
    "\n",
    "\n",
    "import json \n",
    "from cassis import * # pip install dkpro-cassis\n",
    "import os\n",
    "import subprocess\n",
    "import numpy as np\n",
    "import pandas as pd\n",
    "from pathlib import Path\n",
    "import zipfile\n",
    "\n",
    "PROJECT_NAME = 'Transferability+-+CDI'\n",
    "EXPORT_LOC = './data/'\n",
    "NE_TYPE = 'de.tudarmstadt.ukp.dkpro.core.api.ner.type.NamedEntity'\n",
    "CHUNK_TYPE = 'de.tudarmstadt.ukp.dkpro.core.api.ner.type.NamedEntity'\n"
   ]
  },
  {
   "cell_type": "code",
   "execution_count": 2,
   "metadata": {},
   "outputs": [],
   "source": [
    "def _get_doc_dirs(curation_dir):\n",
    "    doc_dirs = [f.path for f in os.scandir(curation_dir) if f.is_dir()]\n",
    "    return doc_dirs\n",
    "\n",
    "def _find_most_recent_export(export_loc,project_name):\n",
    "    export_dirs = pd.Series([f.path for f in os.scandir(EXPORT_LOC) if f.is_dir() and PROJECT_NAME in str(f)])\n",
    "\n",
    "    exports = pd.DataFrame()\n",
    "    exports['path'] = export_dirs\n",
    "    exports['date'] = exports['path'].apply(lambda x: int(x[-15:].replace('-','').replace('_','')))\n",
    "    target_folder = exports.path[exports.date.argmax()]\n",
    "\n",
    "    curation_dir = Path(target_folder) / 'curation'\n",
    "    source_dir =  Path(target_folder) / 'source'\n",
    "    \n",
    "    doc_dirs = _get_doc_dirs(curation_dir)\n",
    "    \n",
    "    return target_folder, curation_dir, source_dir, doc_dirs\n",
    "\n",
    "target_folder, curation_dir, source_dir, doc_dirs = _find_most_recent_export(EXPORT_LOC, PROJECT_NAME)\n"
   ]
  },
  {
   "cell_type": "code",
   "execution_count": 3,
   "metadata": {},
   "outputs": [],
   "source": [
    "def _construct_df_of_paths(doc_dirs: list, source_dir):\n",
    "    docs = pd.DataFrame()\n",
    "    for doc_dir in doc_dirs:\n",
    "        zips = pd.Series([f.name for f in os.scandir(doc_dir) if '.zip' in str(f)])\n",
    "        for z in zips:\n",
    "            with zipfile.ZipFile(os.path.join(doc_dir,z), 'r') as zip_ref:\n",
    "                zip_ref.extractall(doc_dir)\n",
    "            #subprocess.Popen(['unzip',z],cwd=doc_dir)\n",
    "        doc_dir = Path(doc_dir)\n",
    "        source_path = source_dir / doc_dir.name\n",
    "        docs = docs.append([[doc_dir.name, doc_dir / \"TypeSystem.xml\", doc_dir / \"CURATION_USER.xmi\", source_path]])\n",
    "\n",
    "    docs = docs.reset_index().drop(columns=['index'])\n",
    "    docs.columns = ['doc_name','typesystem_path','annot_path','source_path'] \n",
    "        \n",
    "    return docs"
   ]
  },
  {
   "cell_type": "code",
   "execution_count": 4,
   "metadata": {},
   "outputs": [
    {
     "data": {
      "text/html": [
       "<div>\n",
       "<style scoped>\n",
       "    .dataframe tbody tr th:only-of-type {\n",
       "        vertical-align: middle;\n",
       "    }\n",
       "\n",
       "    .dataframe tbody tr th {\n",
       "        vertical-align: top;\n",
       "    }\n",
       "\n",
       "    .dataframe thead th {\n",
       "        text-align: right;\n",
       "    }\n",
       "</style>\n",
       "<table border=\"1\" class=\"dataframe\">\n",
       "  <thead>\n",
       "    <tr style=\"text-align: right;\">\n",
       "      <th></th>\n",
       "      <th>doc_name</th>\n",
       "      <th>typesystem_path</th>\n",
       "      <th>annot_path</th>\n",
       "      <th>source_path</th>\n",
       "    </tr>\n",
       "  </thead>\n",
       "  <tbody>\n",
       "    <tr>\n",
       "      <th>0</th>\n",
       "      <td>10079105.txt</td>\n",
       "      <td>data\\Transferability+-+CDI_curated_documents_2...</td>\n",
       "      <td>data\\Transferability+-+CDI_curated_documents_2...</td>\n",
       "      <td>data\\Transferability+-+CDI_curated_documents_2...</td>\n",
       "    </tr>\n",
       "    <tr>\n",
       "      <th>1</th>\n",
       "      <td>10952564.txt</td>\n",
       "      <td>data\\Transferability+-+CDI_curated_documents_2...</td>\n",
       "      <td>data\\Transferability+-+CDI_curated_documents_2...</td>\n",
       "      <td>data\\Transferability+-+CDI_curated_documents_2...</td>\n",
       "    </tr>\n",
       "    <tr>\n",
       "      <th>2</th>\n",
       "      <td>11254479.txt</td>\n",
       "      <td>data\\Transferability+-+CDI_curated_documents_2...</td>\n",
       "      <td>data\\Transferability+-+CDI_curated_documents_2...</td>\n",
       "      <td>data\\Transferability+-+CDI_curated_documents_2...</td>\n",
       "    </tr>\n",
       "    <tr>\n",
       "      <th>3</th>\n",
       "      <td>11254650.txt</td>\n",
       "      <td>data\\Transferability+-+CDI_curated_documents_2...</td>\n",
       "      <td>data\\Transferability+-+CDI_curated_documents_2...</td>\n",
       "      <td>data\\Transferability+-+CDI_curated_documents_2...</td>\n",
       "    </tr>\n",
       "    <tr>\n",
       "      <th>4</th>\n",
       "      <td>11451694.txt</td>\n",
       "      <td>data\\Transferability+-+CDI_curated_documents_2...</td>\n",
       "      <td>data\\Transferability+-+CDI_curated_documents_2...</td>\n",
       "      <td>data\\Transferability+-+CDI_curated_documents_2...</td>\n",
       "    </tr>\n",
       "  </tbody>\n",
       "</table>\n",
       "</div>"
      ],
      "text/plain": [
       "       doc_name                                    typesystem_path  \\\n",
       "0  10079105.txt  data\\Transferability+-+CDI_curated_documents_2...   \n",
       "1  10952564.txt  data\\Transferability+-+CDI_curated_documents_2...   \n",
       "2  11254479.txt  data\\Transferability+-+CDI_curated_documents_2...   \n",
       "3  11254650.txt  data\\Transferability+-+CDI_curated_documents_2...   \n",
       "4  11451694.txt  data\\Transferability+-+CDI_curated_documents_2...   \n",
       "\n",
       "                                          annot_path  \\\n",
       "0  data\\Transferability+-+CDI_curated_documents_2...   \n",
       "1  data\\Transferability+-+CDI_curated_documents_2...   \n",
       "2  data\\Transferability+-+CDI_curated_documents_2...   \n",
       "3  data\\Transferability+-+CDI_curated_documents_2...   \n",
       "4  data\\Transferability+-+CDI_curated_documents_2...   \n",
       "\n",
       "                                         source_path  \n",
       "0  data\\Transferability+-+CDI_curated_documents_2...  \n",
       "1  data\\Transferability+-+CDI_curated_documents_2...  \n",
       "2  data\\Transferability+-+CDI_curated_documents_2...  \n",
       "3  data\\Transferability+-+CDI_curated_documents_2...  \n",
       "4  data\\Transferability+-+CDI_curated_documents_2...  "
      ]
     },
     "execution_count": 4,
     "metadata": {},
     "output_type": "execute_result"
    }
   ],
   "source": [
    "docs = _construct_df_of_paths(doc_dirs, source_dir) \n",
    "docs.head()"
   ]
  },
  {
   "cell_type": "code",
   "execution_count": 5,
   "metadata": {},
   "outputs": [],
   "source": [
    "def load_cas(typesystem_path, annot_path):\n",
    "    with open(typesystem_path,'rb') as f:\n",
    "        typesystem = load_typesystem(f)\n",
    "    with open(annot_path,'rb') as f:\n",
    "        cas = load_cas_from_xmi(f, typesystem=typesystem)\n",
    "    return cas"
   ]
  },
  {
   "cell_type": "code",
   "execution_count": 6,
   "metadata": {},
   "outputs": [],
   "source": [
    "def _identify_typenames():\n",
    "    for t in cas.typesystem.get_types():\n",
    "        print(t.name)"
   ]
  },
  {
   "cell_type": "code",
   "execution_count": 7,
   "metadata": {},
   "outputs": [],
   "source": [
    "objs = []\n",
    "for index, doc in docs.iterrows():\n",
    "    obj = {}\n",
    "    obj['doc_name'] = [doc['doc_name']]\n",
    "    cas = load_cas(doc['typesystem_path'],doc['annot_path'])\n",
    "    for named_entity in cas.select(NE_TYPE):\n",
    "        entity_type = named_entity.value\n",
    "        entity_text = named_entity.get_covered_text()\n",
    "        try:\n",
    "            obj[entity_type].append(entity_text)\n",
    "        except KeyError:\n",
    "            obj[entity_type] = [entity_text]\n",
    "    objs.append(obj)"
   ]
  },
  {
   "cell_type": "code",
   "execution_count": 8,
   "metadata": {},
   "outputs": [],
   "source": [
    "import itertools"
   ]
  },
  {
   "cell_type": "code",
   "execution_count": 9,
   "metadata": {},
   "outputs": [
    {
     "data": {
      "text/plain": [
       "[['10079105.txt'],\n",
       " ['Clostridium difficile'],\n",
       " ['rat'],\n",
       " ['neurotensin receptor antagonist',\n",
       "  'inhibited by the substance P (neurokinin-1) receptor antagonist CP-96,345'],\n",
       " ['toxin A-induced'],\n",
       " ['SR-48,692']]"
      ]
     },
     "execution_count": 9,
     "metadata": {},
     "output_type": "execute_result"
    }
   ],
   "source": [
    "[[obj[x] for x in obj.keys()] for obj in objs][0]"
   ]
  },
  {
   "cell_type": "code",
   "execution_count": 10,
   "metadata": {},
   "outputs": [],
   "source": [
    "expanded = [[dict(zip(obj.keys(),y)) for y in itertools.product(*[obj[x] for x in obj.keys()])] for obj in objs]\n",
    "expanded = [item for sublist in expanded for item in sublist]"
   ]
  },
  {
   "cell_type": "code",
   "execution_count": 11,
   "metadata": {},
   "outputs": [],
   "source": [
    "pd.DataFrame(expanded).to_csv('./data/exported_annotations_cdi.csv')"
   ]
  },
  {
   "cell_type": "code",
   "execution_count": 12,
   "metadata": {},
   "outputs": [],
   "source": [
    "json.dump(objs,open('./data/exported_annotations_cdi.json','w'))"
   ]
  },
  {
   "cell_type": "code",
   "execution_count": null,
   "metadata": {},
   "outputs": [],
   "source": []
  }
 ],
 "metadata": {
  "kernelspec": {
   "display_name": "Python 3",
   "language": "python",
   "name": "python3"
  },
  "language_info": {
   "codemirror_mode": {
    "name": "ipython",
    "version": 3
   },
   "file_extension": ".py",
   "mimetype": "text/x-python",
   "name": "python",
   "nbconvert_exporter": "python",
   "pygments_lexer": "ipython3",
   "version": "3.9.5"
  }
 },
 "nbformat": 4,
 "nbformat_minor": 4
}
